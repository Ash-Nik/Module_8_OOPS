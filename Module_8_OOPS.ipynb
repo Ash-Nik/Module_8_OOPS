{
  "nbformat": 4,
  "nbformat_minor": 0,
  "metadata": {
    "colab": {
      "provenance": []
    },
    "kernelspec": {
      "name": "python3",
      "display_name": "Python 3"
    },
    "language_info": {
      "name": "python"
    }
  },
  "cells": [
    {
      "cell_type": "markdown",
      "source": [],
      "metadata": {
        "id": "r0WQ4P-gsUT-"
      }
    },
    {
      "cell_type": "code",
      "source": [],
      "metadata": {
        "id": "IZEZ9c2tqjgm"
      },
      "execution_count": null,
      "outputs": []
    },
    {
      "cell_type": "markdown",
      "source": [
        "Q1 Explain the importance of Functions?\n",
        "Functions in programming allow for modular, reusable code, improving readability, maintenance, and efficiency by encapsulating logic into manageable blocks.\n"
      ],
      "metadata": {
        "id": "E-NCZZ0OsWDx"
      }
    },
    {
      "cell_type": "code",
      "source": [
        " #Write a basic function to greet students\n",
        "def greet():\n",
        "  print(\"Hello students! How can I assist you today?\")\n",
        "greet()\n"
      ],
      "metadata": {
        "colab": {
          "base_uri": "https://localhost:8080/"
        },
        "id": "M6_GbQ-Fshhj",
        "outputId": "5e176f3b-4ec8-4e4d-a1d5-907171c5c0be"
      },
      "execution_count": null,
      "outputs": [
        {
          "output_type": "stream",
          "name": "stdout",
          "text": [
            "Hello students! How can I assist you today?\n"
          ]
        }
      ]
    },
    {
      "cell_type": "markdown",
      "source": [
        "Q What is the difference between print and return statements?\n",
        "The `print` statement in Python is used to display output to the console, while the `return` statement is used to exit a function and optionally return a value back to the caller. `print` is for displaying information, while `return` is for passing data back from a function."
      ],
      "metadata": {
        "id": "nF4UiYU7tA2f"
      }
    },
    {
      "cell_type": "markdown",
      "source": [
        "Q4 What are *args and **kwargs?\n",
        "\n",
        "*args is used to pass a variable number of positional arguments to a function. It collects them into a tuple.\n",
        "\n",
        "**kwargs is used to pass a variable number of keyword arguments to a function. It collects them into a dictionary.\n",
        "\n",
        "\n"
      ],
      "metadata": {
        "id": "ahm4q6fWtP5B"
      }
    },
    {
      "cell_type": "markdown",
      "source": [
        "**Q5 Explain the iterator function0?**\n",
        "\n",
        "An iterator is an object that implements the iterator protocol, which consists of two methods: __iter__() and __next__().\n",
        "\n",
        "The __iter__() method returns the iterator object itself and is required for an object to be iterable.\n",
        "\n",
        "The __next__() method returns the next item in the sequence. When there are no more items to return, it raises the StopIteration exception."
      ],
      "metadata": {
        "id": "xlI0mwehtmYj"
      }
    },
    {
      "cell_type": "code",
      "source": [
        "\n",
        "def generate(n):\n",
        "    for i in range(1, n+1):\n",
        "        yield i**2\n",
        "\n",
        "x = int(input(\"Please enter the number: \"))\n",
        "f = generate(x)\n",
        "for i in f:\n",
        "    print(i)\n"
      ],
      "metadata": {
        "colab": {
          "base_uri": "https://localhost:8080/"
        },
        "id": "N4bvIjl1vjSJ",
        "outputId": "ab068d2e-09e6-40a7-ba67-d3ce6f13db8d"
      },
      "execution_count": null,
      "outputs": [
        {
          "output_type": "stream",
          "name": "stdout",
          "text": [
            "Please enter the number: 10\n",
            "1\n",
            "4\n",
            "9\n",
            "16\n",
            "25\n",
            "36\n",
            "49\n",
            "64\n",
            "81\n",
            "100\n"
          ]
        }
      ]
    },
    {
      "cell_type": "code",
      "source": [
        "# Q7 Write a code that generates palindromic numbers up to n using a generator\n",
        "def reverse(n):\n",
        "    x = str(n)\n",
        "    z = x[::-1]\n",
        "    return n == int(z)\n",
        "\n",
        "def generate(n):\n",
        "    for i in range(1, n):\n",
        "        if reverse(i):\n",
        "            yield i\n",
        "\n",
        "x = int(input(\"Please enter n: \"))\n",
        "f = generate(x)\n",
        "for i in f:\n",
        "    print(i)\n"
      ],
      "metadata": {
        "colab": {
          "base_uri": "https://localhost:8080/"
        },
        "id": "-sSEsEab3L9J",
        "outputId": "79500903-1d90-448b-fdeb-dbe2ee861eed"
      },
      "execution_count": null,
      "outputs": [
        {
          "output_type": "stream",
          "name": "stdout",
          "text": [
            "Please enter n: 100\n",
            "1\n",
            "2\n",
            "3\n",
            "4\n",
            "5\n",
            "6\n",
            "7\n",
            "8\n",
            "9\n",
            "11\n",
            "22\n",
            "33\n",
            "44\n",
            "55\n",
            "66\n",
            "77\n",
            "88\n",
            "99\n"
          ]
        }
      ]
    },
    {
      "cell_type": "code",
      "source": [
        "\n",
        "# Q8 Write a code that generates even numbers from 2 to n using a generator?\n",
        "def generate(n):\n",
        "  for i in range (2,n+1):\n",
        "    if(i%2==0):\n",
        "      yield i\n",
        "x = int(input(\"Please enter a number : \"))\n",
        "f=generate(x)\n",
        "for i in f:\n",
        "  print(i)"
      ],
      "metadata": {
        "colab": {
          "base_uri": "https://localhost:8080/"
        },
        "id": "8B7urkOw6Tuo",
        "outputId": "e014dcd6-84e5-47c4-ad5b-86e875bb41da"
      },
      "execution_count": null,
      "outputs": [
        {
          "output_type": "stream",
          "name": "stdout",
          "text": [
            "Please enter a number : 20\n",
            "2\n",
            "4\n",
            "6\n",
            "8\n",
            "10\n",
            "12\n",
            "14\n",
            "16\n",
            "18\n",
            "20\n"
          ]
        }
      ]
    },
    {
      "cell_type": "code",
      "source": [
        "#9 Write a code that generates powers of two up to n using a generator\n",
        "def generate(n):\n",
        "  for i in range(n):\n",
        "    yield 2**i\n",
        "x=int(input(\"Please enter range : \"))\n",
        "f=generate(x)\n",
        "for i in f:\n",
        "  print(i)"
      ],
      "metadata": {
        "id": "LXdOveza8Awe",
        "colab": {
          "base_uri": "https://localhost:8080/"
        },
        "outputId": "fe170a9b-a5cc-417e-b892-f3564a19a3a3"
      },
      "execution_count": null,
      "outputs": [
        {
          "output_type": "stream",
          "name": "stdout",
          "text": [
            "Please enter range : 5\n",
            "1\n",
            "2\n",
            "4\n",
            "8\n",
            "16\n"
          ]
        }
      ]
    },
    {
      "cell_type": "code",
      "source": [
        "# Q10 Write a code that generates prime numbers up to n using a generator?\n",
        "import math\n",
        "\n",
        "def is_prime(num):\n",
        "    if num < 2:\n",
        "        return False\n",
        "    for i in range(2, int(math.sqrt(num)) + 1):\n",
        "        if num % i == 0:\n",
        "            return False\n",
        "    return True\n",
        "\n",
        "def generate(n):\n",
        "  for i in range(n):\n",
        "    if is_prime(i):\n",
        "      yield i\n",
        "\n",
        "x= int(input(\"Please enter the number : \"))\n",
        "f=generate(x)\n",
        "for i in f:\n",
        "  print(i)\n"
      ],
      "metadata": {
        "colab": {
          "base_uri": "https://localhost:8080/"
        },
        "id": "XKpl_t4z-i0t",
        "outputId": "be75d620-bd79-4922-81e2-57a3efcd0ede"
      },
      "execution_count": null,
      "outputs": [
        {
          "output_type": "stream",
          "name": "stdout",
          "text": [
            "Please enter the number : 100\n",
            "2\n",
            "3\n",
            "5\n",
            "7\n",
            "11\n",
            "13\n",
            "17\n",
            "19\n",
            "23\n",
            "29\n",
            "31\n",
            "37\n",
            "41\n",
            "43\n",
            "47\n",
            "53\n",
            "59\n",
            "61\n",
            "67\n",
            "71\n",
            "73\n",
            "79\n",
            "83\n",
            "89\n",
            "97\n"
          ]
        }
      ]
    },
    {
      "cell_type": "code",
      "source": [
        "# Q11 Write a code that uses a lambda function to calculate the sum of two numbers\n",
        "sum1=lambda x,y:x+y\n",
        "print(sum1(2,4))"
      ],
      "metadata": {
        "colab": {
          "base_uri": "https://localhost:8080/"
        },
        "id": "ZcFtxTxB_r36",
        "outputId": "408f93aa-52dd-4975-87a9-c7f950fd8343"
      },
      "execution_count": null,
      "outputs": [
        {
          "output_type": "stream",
          "name": "stdout",
          "text": [
            "6\n"
          ]
        }
      ]
    },
    {
      "cell_type": "code",
      "source": [
        "# 12 Write a code that uses a lambda function to calculate the square of a given number\n",
        "sq=lambda x:x**2\n",
        "x=int(input(\"Please enter the number : \"))\n",
        "print(\"Square of :\",sq(x))\n"
      ],
      "metadata": {
        "colab": {
          "base_uri": "https://localhost:8080/"
        },
        "id": "zzn_5iSuBhju",
        "outputId": "5e88c1b2-d690-4709-9b9e-30c70d9b274e"
      },
      "execution_count": null,
      "outputs": [
        {
          "output_type": "stream",
          "name": "stdout",
          "text": [
            "Please enter the number : 5\n",
            "Square of : 25\n"
          ]
        }
      ]
    },
    {
      "cell_type": "code",
      "source": [
        "# 13 Write a code that uses a lambda function to check whether a given number is even or odd\n",
        "\n",
        "check = lambda x: \"even\" if x%2==0 else \"odd\"\n",
        "x=int(input(\"please enter the number = \"))\n",
        "print(check(x))"
      ],
      "metadata": {
        "colab": {
          "base_uri": "https://localhost:8080/"
        },
        "id": "yNN0kNKSCSgt",
        "outputId": "dc4c97c4-2351-4404-b26f-0bfd42e8cbcd"
      },
      "execution_count": null,
      "outputs": [
        {
          "output_type": "stream",
          "name": "stdout",
          "text": [
            "please enter the number = 5\n",
            "odd\n"
          ]
        }
      ]
    },
    {
      "cell_type": "code",
      "source": [
        "# 15 Write a code that uses a lambda function to concatenate two strings\n",
        "concat=lambda x,y:x+y\n",
        "x=input(\"Enter string 1 :\")\n",
        "y=input(\"Enter string 2 :\")\n",
        "print(concat(x,y))"
      ],
      "metadata": {
        "colab": {
          "base_uri": "https://localhost:8080/"
        },
        "id": "Kb5c4l3SCyMN",
        "outputId": "532df70d-6438-428e-dba6-761971fbc1da"
      },
      "execution_count": null,
      "outputs": [
        {
          "output_type": "stream",
          "name": "stdout",
          "text": [
            "Enter string 1 :hello\n",
            "Enter string 2 :mello\n",
            "hellomello\n"
          ]
        }
      ]
    },
    {
      "cell_type": "code",
      "source": [
        "# 16 Write a code that uses a lambda function to find the maximum of three given numbers\n",
        "max1 = lambda x, y, z: x if x > y and x > z else (y if y > x and y > z else z)\n",
        "print(max1(1,2,4))\n"
      ],
      "metadata": {
        "colab": {
          "base_uri": "https://localhost:8080/"
        },
        "id": "Z2YE11x2DdrR",
        "outputId": "794baff3-e1ab-4d67-ade6-ac58253cadd9"
      },
      "execution_count": null,
      "outputs": [
        {
          "output_type": "stream",
          "name": "stdout",
          "text": [
            "4\n"
          ]
        }
      ]
    },
    {
      "cell_type": "code",
      "source": [
        "# 17 Write a code that generates the squares of even numbers from a given list\n",
        "def generate(l):\n",
        "  for i in l:\n",
        "    if i%2==0:\n",
        "      yield i**2\n",
        "x=eval(input(\"Please enter the list : \"))\n",
        "f=generate(x)\n",
        "for i in f:\n",
        "  print(i)"
      ],
      "metadata": {
        "id": "gODOn0W8Fdnz",
        "colab": {
          "base_uri": "https://localhost:8080/"
        },
        "outputId": "9338a515-27d3-4f51-e2ac-76a45feb772a"
      },
      "execution_count": null,
      "outputs": [
        {
          "output_type": "stream",
          "name": "stdout",
          "text": [
            "Please enter the number : [1,2,3,4,5,6]\n",
            "4\n",
            "16\n",
            "36\n"
          ]
        }
      ]
    },
    {
      "cell_type": "code",
      "source": [
        "#18 Write a code that calculates the product of positive numbers from a given list\n",
        "def product(l):\n",
        "  c=1\n",
        "  for i in l:\n",
        "    if i>0:\n",
        "      c*=i\n",
        "  return c\n",
        "x=eval(input(\"Enter a list : \"))\n",
        "print(product(x))"
      ],
      "metadata": {
        "colab": {
          "base_uri": "https://localhost:8080/"
        },
        "id": "W40ZdwD6i8XQ",
        "outputId": "9a15444e-3cb9-47e6-febd-9f366c749075"
      },
      "execution_count": null,
      "outputs": [
        {
          "output_type": "stream",
          "name": "stdout",
          "text": [
            "Enter a list : [1,-3,1,-5,3,7]\n",
            "21\n"
          ]
        }
      ]
    },
    {
      "cell_type": "code",
      "source": [
        "#19 Write a code that doubles the values of odd numbers from a given list\n",
        "x=eval(input(\"Please enter a list : \"))\n",
        "y=list(map(lambda x:x*2 if x%2!=0 else x,x))\n",
        "print(y)"
      ],
      "metadata": {
        "colab": {
          "base_uri": "https://localhost:8080/"
        },
        "id": "apVWZsmrkY9z",
        "outputId": "815deaa6-96de-462f-b52a-6045c46cec51"
      },
      "execution_count": null,
      "outputs": [
        {
          "output_type": "stream",
          "name": "stdout",
          "text": [
            "Please enter a list : [2,3,3,4,5,7]\n",
            "[2, 6, 6, 4, 10, 14]\n"
          ]
        }
      ]
    },
    {
      "cell_type": "code",
      "source": [
        "#20 Write a code that calculates the sum of cubes of numbers from a given list\n",
        "def cube(l):\n",
        "  x=0\n",
        "  for i in l:\n",
        "    x+=i**3\n",
        "  return x\n",
        "l=eval(input(\"Please enter the list = \"))\n",
        "print(f\"Sum of cube of numbers in the list = {cube(l)}\")"
      ],
      "metadata": {
        "colab": {
          "base_uri": "https://localhost:8080/"
        },
        "id": "NhmwaNYduohR",
        "outputId": "42aaeb1e-447e-40a5-e718-e9de8c9269f4"
      },
      "execution_count": null,
      "outputs": [
        {
          "output_type": "stream",
          "name": "stdout",
          "text": [
            "Please enter the list = [1,2,3,4]\n",
            "Sum of cube of numbers in the list = 100\n"
          ]
        }
      ]
    },
    {
      "cell_type": "code",
      "source": [
        "# \"21 Write a code that filters out prime numbers from a given list\n",
        "import math\n",
        "def is_prime(num):\n",
        "    if num < 2:\n",
        "        return False\n",
        "    for i in range(2, int(math.sqrt(num)) + 1):\n",
        "        if num % i == 0:\n",
        "            return False\n",
        "    return True\n",
        "x=eval(input(\"please enter a list : \"))\n",
        "y=list(filter(is_prime,x))\n",
        "print(y)"
      ],
      "metadata": {
        "id": "LlnN_GIHwb97",
        "colab": {
          "base_uri": "https://localhost:8080/"
        },
        "outputId": "dc606317-d34e-4f3a-8480-7c8649d75063"
      },
      "execution_count": null,
      "outputs": [
        {
          "output_type": "stream",
          "name": "stdout",
          "text": [
            "please enter a list : [1,2,3,6,7,9,11]\n",
            "[2, 3, 7, 11]\n"
          ]
        }
      ]
    },
    {
      "cell_type": "code",
      "source": [
        "# 22 Write a code that uses a lambda function to calculate the sum of two numbers\n",
        "sum1 = lambda x,y : x+y\n",
        "print(sum1(2,4))"
      ],
      "metadata": {
        "colab": {
          "base_uri": "https://localhost:8080/"
        },
        "id": "Vqid3lo9yBnZ",
        "outputId": "a76a0e98-42b4-42da-bb48-80221c120d24"
      },
      "execution_count": null,
      "outputs": [
        {
          "output_type": "stream",
          "name": "stdout",
          "text": [
            "6\n"
          ]
        }
      ]
    },
    {
      "cell_type": "code",
      "source": [
        "#23 Write a code that uses a lambda function to calculate the square of a given number\n",
        "sq=lambda x:x**2\n",
        "x=int(input(\"Please enter the number : \"))\n",
        "print(\"Square of :\",sq(x))\n"
      ],
      "metadata": {
        "colab": {
          "base_uri": "https://localhost:8080/"
        },
        "id": "IDLRqx0xymXV",
        "outputId": "9f1cf73c-0cb8-4207-dafa-820f976134a8"
      },
      "execution_count": null,
      "outputs": [
        {
          "output_type": "stream",
          "name": "stdout",
          "text": [
            "Please enter the number : 5\n",
            "Square of : 25\n"
          ]
        }
      ]
    },
    {
      "cell_type": "code",
      "source": [
        "# 24 Write a code that uses a lambda function to check whether a given number is even or odd\n",
        "check = lambda x: \"even\" if x%2==0 else \"odd\"\n",
        "x=int(input(\"please enter the number = \"))\n",
        "print(check(x))\n"
      ],
      "metadata": {
        "colab": {
          "base_uri": "https://localhost:8080/"
        },
        "id": "FUn68CXGzjdt",
        "outputId": "84736ba7-1e3c-483a-d164-ed1bf1d5d11a"
      },
      "execution_count": null,
      "outputs": [
        {
          "output_type": "stream",
          "name": "stdout",
          "text": [
            "please enter the number = 68\n",
            "even\n"
          ]
        }
      ]
    },
    {
      "cell_type": "code",
      "source": [
        "#25 Write a code that uses a lambda function to concatenate two strings\n",
        "concat=lambda x,y:x+y\n",
        "x=input(\"Enter string 1 :\")\n",
        "y=input(\"Enter string 2 :\")\n",
        "print(concat(x,y))\n"
      ],
      "metadata": {
        "colab": {
          "base_uri": "https://localhost:8080/"
        },
        "id": "2pEqgGfcztzt",
        "outputId": "c1bbc06a-7d72-4f56-f8c9-fdab6a47906d"
      },
      "execution_count": null,
      "outputs": [
        {
          "output_type": "stream",
          "name": "stdout",
          "text": [
            "Enter string 1 :Devraj\n",
            "Enter string 2 : Bhindhani\n",
            "Devraj Bhindhani\n"
          ]
        }
      ]
    },
    {
      "cell_type": "code",
      "source": [
        "#26 Write a code that uses a lambda function to find the maximum of three given numbers\n",
        "max1 = lambda x, y, z: x if x > y and x > z else (y if y > x and y > z else z)\n",
        "print(max1(1,9,4))\n"
      ],
      "metadata": {
        "colab": {
          "base_uri": "https://localhost:8080/"
        },
        "id": "F--CMTX40y8o",
        "outputId": "23842f4d-c8d9-4e88-d3a8-2908c131214a"
      },
      "execution_count": null,
      "outputs": [
        {
          "output_type": "stream",
          "name": "stdout",
          "text": [
            "9\n"
          ]
        }
      ]
    },
    {
      "cell_type": "markdown",
      "source": [
        "**Q27 What is encapsulation in OOP?**\n",
        "\n",
        " Encapsulation in OOP is like a box that holds both data and the instructions (methods) to use that data. It keeps the data safe from being changed incorrectly by other parts of the program."
      ],
      "metadata": {
        "id": "EdOaFKxG1EEb"
      }
    },
    {
      "cell_type": "markdown",
      "source": [
        "Q28 **Explain the use of access modifiers in Python classes**\n",
        "\n",
        "Access modifiers in Python, like public, protected, and private, control the visibility of attributes and methods in a class. While not strictly enforced, conventions like using underscores indicate visibility. Public attributes are accessible from outside the class, protected within the class and its subclasses, and private only within the class.\n"
      ],
      "metadata": {
        "id": "ljYUqbTP1dmO"
      }
    },
    {
      "cell_type": "markdown",
      "source": [
        "**Q29 What is inheritance in OOP?**\n",
        "\n",
        "Inheritance in OOP allows a new class (subclass) to inherit attributes and methods from an existing class (superclass), promoting code reuse and the creation of a hierarchy of classes."
      ],
      "metadata": {
        "id": "qh0MJjXZ2XJX"
      }
    },
    {
      "cell_type": "markdown",
      "source": [
        "**Q30 define polymorphism in OOP**\n",
        "\n",
        "Polymorphism in OOP is like a shape-shifting ability. It allows objects to be treated as instances of their parent class, so different classes can be used interchangeably if they share a common parent.\n"
      ],
      "metadata": {
        "id": "Y90zCVIw2u06"
      }
    },
    {
      "cell_type": "markdown",
      "source": [
        "**Q31 Explain method overriding in Python**\n",
        "\n",
        "Method overriding in Python lets a subclass provide a new implementation for a method that is already defined in its superclass. This allows the subclass to change how the method behaves when it is called on objects of the subclass."
      ],
      "metadata": {
        "id": "5IvR3OOJ4i-B"
      }
    },
    {
      "cell_type": "code",
      "source": [
        "#Q32 define a parent class Animal with a method make_sound that prints \"Generic animal sound\". Create a\n",
        "# child class Dog inheriting from Animal with a method make_sound that prints \"Woof!\"\n",
        "\n",
        "class Animal:\n",
        "  def make_sound(self):\n",
        "    print(\"Generic animal sound\")\n",
        "\n",
        "class Dog(Animal):\n",
        "  def make_sound(self):\n",
        "    print(\"Woof\")\n",
        "\n",
        "ani=Dog()\n",
        "ani.make_sound()\n",
        "\n"
      ],
      "metadata": {
        "colab": {
          "base_uri": "https://localhost:8080/"
        },
        "id": "PpV1uJ-jNcoo",
        "outputId": "1cdb0cea-4928-4996-82cd-c4129ef553e9"
      },
      "execution_count": null,
      "outputs": [
        {
          "output_type": "stream",
          "name": "stdout",
          "text": [
            "Woof\n"
          ]
        }
      ]
    },
    {
      "cell_type": "code",
      "source": [
        "# Q33 Define a method move in the Animal class that prints \"Animal moves\". Override the move method in the\n",
        "# Dog class to print \"Dog runs.\n",
        "class Animal:\n",
        "  def move(self):\n",
        "    print(\"Animal moves\")\n",
        "\n",
        "class Dog(Animal):\n",
        "  def move(self):\n",
        "    print(\"Dog runs\")\n",
        "\n",
        "ani=Dog()\n",
        "ani.move()\n"
      ],
      "metadata": {
        "colab": {
          "base_uri": "https://localhost:8080/"
        },
        "id": "1v7OFEYkOtTi",
        "outputId": "35a149ac-30ed-440b-cc97-eee27440554a"
      },
      "execution_count": null,
      "outputs": [
        {
          "output_type": "stream",
          "name": "stdout",
          "text": [
            "Dog runs\n"
          ]
        }
      ]
    },
    {
      "cell_type": "code",
      "source": [
        "# Q34 create a class Mammal with a method reproduce that prints \"Giving birth to live young.\" Create a class\n",
        "# DogMammal inheriting from both Dog and Mammal\n",
        "\n",
        "class Mammal:\n",
        "  def reproduce(self):\n",
        "    print(\"Giving birth to live young\")\n",
        "\n",
        "class Dog:\n",
        "  def move(self):\n",
        "    print(\"Dog runs\")\n",
        "\n",
        "class DogMammal(Mammal,Dog):\n",
        "  pass\n",
        "\n",
        "dm=DogMammal()\n",
        "dm.move()\n",
        "dm.reproduce()"
      ],
      "metadata": {
        "colab": {
          "base_uri": "https://localhost:8080/"
        },
        "id": "9s-el2CnPwei",
        "outputId": "cbb9a395-92b9-4c15-c1f2-da81366559d0"
      },
      "execution_count": null,
      "outputs": [
        {
          "output_type": "stream",
          "name": "stdout",
          "text": [
            "Dog runs\n",
            "Giving birth to live young\n"
          ]
        }
      ]
    },
    {
      "cell_type": "code",
      "source": [
        "# Q35 create a class GermanShepherd inheriting from Dog and override the make_sound method to print\n",
        "# \"Bark\"!\n",
        "\n",
        "class Dog:\n",
        "    def make_sound(self):\n",
        "        print(\"Woof!\")\n",
        "\n",
        "class GermanShepherd(Dog):\n",
        "    def make_sound(self):\n",
        "        print(\"Bark!\")\n",
        "\n",
        "german_shepherd = GermanShepherd()\n",
        "\n",
        "german_shepherd.make_sound()\n"
      ],
      "metadata": {
        "colab": {
          "base_uri": "https://localhost:8080/"
        },
        "id": "8kc75ae_Ra0K",
        "outputId": "00cbc33c-05d5-4470-9e9b-85b55958cd33"
      },
      "execution_count": null,
      "outputs": [
        {
          "output_type": "stream",
          "name": "stdout",
          "text": [
            "Bark!\n"
          ]
        }
      ]
    },
    {
      "cell_type": "code",
      "source": [
        "# Q36 define constructors in both the Animal and Dog classes with different initialization parameters\n",
        "class Animal:\n",
        "  def __init__(self,l):\n",
        "    self.l=l\n",
        "  def move(self,l):\n",
        "    l=self.l\n",
        "    print(\"Animal moves like \",l)\n",
        "\n",
        "class Dog(Animal):\n",
        "  def __init__(self,l,l1):\n",
        "    self.l=l\n",
        "    self.l1=l1\n",
        "  def move(self):\n",
        "    l=self.l\n",
        "    l1=self.l1\n",
        "    print(f\"Dog runs like {l} and walks like {l1} \")\n",
        "\n",
        "ani=Dog(\"Car\",\"horse\")\n",
        "ani.move()"
      ],
      "metadata": {
        "colab": {
          "base_uri": "https://localhost:8080/"
        },
        "id": "RAOykMxMS-4x",
        "outputId": "fe9f5b3f-805f-4558-fe22-412bcaa4ddf5"
      },
      "execution_count": null,
      "outputs": [
        {
          "output_type": "stream",
          "name": "stdout",
          "text": [
            "Dog runs like Car and walks like horse \n"
          ]
        }
      ]
    },
    {
      "cell_type": "markdown",
      "source": [
        "**Q37what is abstraction in Python? How is it implemented?**\n",
        "\n",
        "Abstraction in Python is the concept of hiding complex implementation details and showing only the essential parts of an object. It allows us to work with high-level concepts without worrying about the low-level details.\n",
        "\n",
        "In Python, abstraction is often implemented using abstract classes and methods from the abc module"
      ],
      "metadata": {
        "id": "bwaXcu_XVs5q"
      }
    },
    {
      "cell_type": "markdown",
      "source": [
        "**Q38 Explain the importance of abstraction in object-oriented programming**\n",
        "\n",
        "*Abstraction in object-oriented programming is important because it allows us to manage complexity by hiding unnecessary details and exposing only relevant information*\n",
        "\n",
        "It helps in creating a simplified and more manageable structure for our code, making it easier to understand, maintain, and reuse.\n",
        "By abstracting away complex implementation details, we can focus on the essential aspects of our objects and their interactions"
      ],
      "metadata": {
        "id": "gIzhFVhoWBad"
      }
    },
    {
      "cell_type": "markdown",
      "source": [
        "**Q38 How are abstract methods different from regular methods in Python**\n",
        "\n",
        "\n",
        "Abstract methods in Python are like placeholders that must be filled in by subclasses. They're declared in abstract classes but don't have a body (implementation). Subclasses must provide the implementation. Regular methods, however, have a body and provide specific functionality."
      ],
      "metadata": {
        "id": "auGxPQU2Woxp"
      }
    },
    {
      "cell_type": "markdown",
      "source": [
        "**Q39 How are abstract methods different from regular methods in Python**\n",
        "\n",
        "Abstract methods in Python are methods defined in an abstract class that have a declaration but no implementation.\n",
        "\n",
        "They serve as a blueprint for methods that must be implemented by subclasses.\n",
        "\n",
        "Abstract methods are created using the @abstractmethod decorator from the abc module"
      ],
      "metadata": {
        "id": "8QyE3pwhZZ-t"
      }
    },
    {
      "cell_type": "markdown",
      "source": [
        "**Q40 How can you achieve abstraction using interfaces in Python**\n",
        "\n",
        "In Python, abstraction can be achieved using interfaces by using abstract base classes from the abc\n",
        "\n",
        "An abstract base class can define one or more abstract methods that must be implemented by concrete subclasses."
      ],
      "metadata": {
        "id": "Ni0tNXVTdI81"
      }
    },
    {
      "cell_type": "code",
      "source": [
        "# Q41 Can you provide an example of how abstraction can be utilized to create a common interface for a group of related classes in Python\n",
        "\n",
        "from abc import ABC, abstractmethod\n",
        "\n",
        "class Animal(ABC):\n",
        "    def __init__(self, name):\n",
        "        self.name = name\n",
        "\n",
        "    @abstractmethod\n",
        "    def speak(self):\n",
        "        pass\n",
        "\n",
        "class Dog(Animal):\n",
        "    def speak(self):\n",
        "        return \"Woof!\"\n",
        "\n",
        "class Cat(Animal):\n",
        "    def speak(self):\n",
        "        return \"Meow!\"\n",
        "\n",
        "class Duck(Animal):\n",
        "    def speak(self):\n",
        "        return \"Quack!\"\n",
        "\n",
        "def make_animal_speak(animal):\n",
        "    print(f\"{animal.name} says: {animal.speak()}\")\n",
        "\n",
        "dog = Dog(\"Buddy\")\n",
        "cat = Cat(\"Whiskers\")\n",
        "duck = Duck(\"Daffy\")\n",
        "\n",
        "make_animal_speak(dog)\n",
        "make_animal_speak(cat)\n",
        "make_animal_speak(duck)\n"
      ],
      "metadata": {
        "colab": {
          "base_uri": "https://localhost:8080/"
        },
        "id": "dKfCm8Wsf1_l",
        "outputId": "ca0407aa-8472-4aa1-879a-f0e70cd15167"
      },
      "execution_count": null,
      "outputs": [
        {
          "output_type": "stream",
          "name": "stdout",
          "text": [
            "Buddy says: Woof!\n",
            "Whiskers says: Meow!\n",
            "Daffy says: Quack!\n"
          ]
        }
      ]
    },
    {
      "cell_type": "markdown",
      "source": [
        "**Q42 How does Python achieve polymorphism through method overriding**\n",
        "\n",
        "Python allows subclasses to provide a specific implementation of a method that is already defined in their superclass.\n",
        "\n",
        "When a method is called on an object, Python first looks for that method in the class of the object. If the method is not found, Python looks for it in the superclass, and so on up the inheritance chain."
      ],
      "metadata": {
        "id": "C2_-lQN2j9d5"
      }
    },
    {
      "cell_type": "code",
      "source": [
        "# Q43 define a base class with a method and a subclass that overrides the method\n",
        "\n",
        "class main:\n",
        "  def over(self):\n",
        "    print(\"This is the base class\")\n",
        "class sub(main):\n",
        "  def over(self):\n",
        "    print(\"This is the sub class\")\n",
        "s=sub()\n",
        "s.over()"
      ],
      "metadata": {
        "colab": {
          "base_uri": "https://localhost:8080/"
        },
        "id": "Tt8T24wokn2X",
        "outputId": "475aa001-60ba-49f4-8d14-f9d1a6d6552f"
      },
      "execution_count": null,
      "outputs": [
        {
          "output_type": "stream",
          "name": "stdout",
          "text": [
            "This is the sub class\n"
          ]
        }
      ]
    },
    {
      "cell_type": "code",
      "source": [
        "# Q44 Define a base class and multiple subclasses with overridden methods\n",
        "class Main:\n",
        "  def over(self):\n",
        "    print(\"This is the base class\")\n",
        "class Sub(Main):\n",
        "  def over(self):\n",
        "    print(\"This is the Sub class\")\n",
        "class Sub_sub(Sub):\n",
        "   def over(self):\n",
        "    print(\"This is the Subsub class\")\n",
        "s=Sub_sub()\n",
        "s.over()"
      ],
      "metadata": {
        "colab": {
          "base_uri": "https://localhost:8080/"
        },
        "id": "CkTj8zDVlbUQ",
        "outputId": "43492e83-30be-4ae2-acd7-0928873130a7"
      },
      "execution_count": null,
      "outputs": [
        {
          "output_type": "stream",
          "name": "stdout",
          "text": [
            "This is the Subsub class\n"
          ]
        }
      ]
    },
    {
      "cell_type": "markdown",
      "source": [
        "**Q45 How does polymorphism improve code readability and reusability**\n",
        "\n",
        "Polymorphism makes code easier to understand and reuse by allowing you to use the same code with different types of objects. It helps avoid repeating code and makes it easier to change how objects behave without changing the code that uses them."
      ],
      "metadata": {
        "id": "UY272GW8micI"
      }
    },
    {
      "cell_type": "markdown",
      "source": [
        "**Q46 Describe how Python supports polymorphism with duck typing**\n",
        "\n",
        "Python supports polymorphism through a concept called \"duck typing.\" Duck typing is a style of dynamic typing where the type or class of an object is determined by its behavior (i.e., methods and properties) rather than its explicit type.\n",
        "\n",
        "The name comes from the saying \"If it looks like a duck, swims like a duck, and quacks like a duck, then it probably is a duck.\""
      ],
      "metadata": {
        "id": "93nL8ed2nPDA"
      }
    },
    {
      "cell_type": "markdown",
      "source": [
        "**Q47 How do you achieve encapsulation in Python**\n",
        "\n",
        "Encapsulation in Python is achieved by using private attributes and methods, which are not accessible from outside the class. This is done by prefixing the attribute or method name with two underscores (__)."
      ],
      "metadata": {
        "id": "0o6Dm1Itt1hd"
      }
    },
    {
      "cell_type": "markdown",
      "source": [
        "**Q48 Can encapsulation be bypassed in Python? If so, how**\n",
        "\n",
        "Yes, encapsulation can be bypassed in Python.This can be done by directly accessing the name-mangled attributes, which are prefixed with double underscores (__).\n"
      ],
      "metadata": {
        "id": "TsVyVKsxuK3u"
      }
    },
    {
      "cell_type": "code",
      "source": [
        "# Q49 implement a class BankAccount with a private balance attribute. Include methods to deposit, withdraw, and check the balance\n",
        "class BankAccount:\n",
        "  def __init__(self,balance):\n",
        "    self.__balance=balance\n",
        "  def deposit(self,amount):\n",
        "    self.__balance=self.__balance + amount\n",
        "  def withdraw(self,amount):\n",
        "    self.__balance=self.__balance - amount\n",
        "  def getBalance(self):\n",
        "    return self.__balance\n",
        "\n",
        "account=BankAccount(1000)\n",
        "print(account.getBalance())\n",
        "account.deposit(2500)\n",
        "print(account.getBalance())\n",
        "account.withdraw(500)\n",
        "print(account.getBalance())"
      ],
      "metadata": {
        "colab": {
          "base_uri": "https://localhost:8080/"
        },
        "id": "YOZIiMRxu8PW",
        "outputId": "019e0c81-e6dc-4fba-fd8c-04ea7b541cd0"
      },
      "execution_count": null,
      "outputs": [
        {
          "output_type": "stream",
          "name": "stdout",
          "text": [
            "1000\n",
            "3500\n",
            "3000\n"
          ]
        }
      ]
    },
    {
      "cell_type": "code",
      "source": [
        "#Q50 develop a Person class with private attributes name and email, and methods to set and get the email\n",
        "class Person:\n",
        "  def __init__(self,name ,email):\n",
        "    self.__name=name\n",
        "    self.__email=email\n",
        "\n",
        "  def setEmail(self,email):\n",
        "    self.__email=email\n",
        "\n",
        "  def getEmail(self):\n",
        "    return self.__email\n",
        "\n",
        "person=Person(\"Abhishek\",\"abhshekapdj@gmail.com\")\n",
        "print(f\"Name= {person._Person__name} and email= {person.getEmail()}\" )\n",
        "person.setEmail(\"abhishekapdjo1@gmail.com\")\n",
        "print(f\"Name= {person._Person__name} and email= {person.getEmail()}\" )"
      ],
      "metadata": {
        "colab": {
          "base_uri": "https://localhost:8080/"
        },
        "id": "2tGEsW5hy5Q5",
        "outputId": "a1cb5da7-6fbd-46e7-9a1b-e448b9e853a8"
      },
      "execution_count": null,
      "outputs": [
        {
          "output_type": "stream",
          "name": "stdout",
          "text": [
            "Name= Abhishek and email= abhshekapdj@gmail.com\n",
            "Name= Abhishek and email= abhishekapdjo1@gmail.com\n"
          ]
        }
      ]
    },
    {
      "cell_type": "markdown",
      "source": [
        "**Q51 Why is encapsulation considered a pillar of object-oriented programming (OOP)?**\n",
        "\n",
        "Encapsulation is considered a pillar of object-oriented programming (OOP) because it allows objects to hide their internal state and implementation details, exposing only the necessary interfaces. This helps in achieving several key principles of OOP, including abstraction , codeReusability etc ."
      ],
      "metadata": {
        "id": "10Ui4xlS-Xli"
      }
    },
    {
      "cell_type": "code",
      "source": [
        "# Q52 Create a decorator in Python that adds functionality to a simple function by printing a message before and after the function execution\n",
        "def my_decorator(func):\n",
        "  def wrapper():\n",
        "    print(\"Printing before : \")\n",
        "    func()\n",
        "    print(\"Printing After : \")\n",
        "  return wrapper\n",
        "\n",
        "@my_decorator\n",
        "def hey():\n",
        "  print(\"Hey there : how may i help u \")\n",
        "\n",
        "hey()"
      ],
      "metadata": {
        "colab": {
          "base_uri": "https://localhost:8080/"
        },
        "id": "fgj_dKCW-lu9",
        "outputId": "72b9b0f7-24c3-4e59-c783-1b7737144484"
      },
      "execution_count": null,
      "outputs": [
        {
          "output_type": "stream",
          "name": "stdout",
          "text": [
            "Printing before : \n",
            "Hey there : how may i help u \n",
            "Printing After : \n"
          ]
        }
      ]
    },
    {
      "cell_type": "code",
      "source": [
        "# Q53 modify the decorator to accept arguments and print the function name along with the message\n"
      ],
      "metadata": {
        "id": "wIIpY6qB_-gv"
      },
      "execution_count": null,
      "outputs": []
    },
    {
      "cell_type": "code",
      "source": [
        "def print_message(func_name, message):\n",
        "    def decorator(func):\n",
        "        def wrapper(*args, **kwargs):\n",
        "            print(f\"Function {func_name}: {message}\")\n",
        "            return func(*args, **kwargs)\n",
        "        return wrapper\n",
        "    return decorator\n",
        "\n",
        "# Using the decorator with arguments\n",
        "@print_message(\"my_function\", \"This is a decorated function\")\n",
        "def my_function():\n",
        "    print(\"Inside my_function\")\n",
        "\n",
        "# Calling the decorated function\n",
        "my_function()\n",
        "\n"
      ],
      "metadata": {
        "colab": {
          "base_uri": "https://localhost:8080/"
        },
        "id": "4wkSGJ5kBnfu",
        "outputId": "59a9f155-f8a9-4aca-f6ad-c9b0b5005e30"
      },
      "execution_count": null,
      "outputs": [
        {
          "output_type": "stream",
          "name": "stdout",
          "text": [
            "Function my_function: This is a decorated function\n",
            "Inside my_function\n"
          ]
        }
      ]
    },
    {
      "cell_type": "code",
      "source": [
        "# Q54 Create two decorators, and apply them to a single function. Ensure that they execute in the order they are applied\n",
        "def decorator1(func):\n",
        "    def wrapper(*args, **kwargs):\n",
        "        print(\"Decorator 1 - Before function execution\")\n",
        "        result = func(*args, **kwargs)\n",
        "        print(\"Decorator 1 - After function execution\")\n",
        "        return result\n",
        "    return wrapper\n",
        "\n",
        "def decorator2(func):\n",
        "    def wrapper(*args, **kwargs):\n",
        "        print(\"Decorator 2 - Before function execution\")\n",
        "        result = func(*args, **kwargs)\n",
        "        print(\"Decorator 2 - After function execution\")\n",
        "        return result\n",
        "    return wrapper\n",
        "\n",
        "@decorator1\n",
        "@decorator2\n",
        "def my_function():\n",
        "    print(\"Function execution\")\n",
        "\n",
        "my_function()\n"
      ],
      "metadata": {
        "colab": {
          "base_uri": "https://localhost:8080/"
        },
        "id": "9ZcffpBd1Fkz",
        "outputId": "421e1076-f935-440b-dc69-ba29a29fc18d"
      },
      "execution_count": null,
      "outputs": [
        {
          "output_type": "stream",
          "name": "stdout",
          "text": [
            "Decorator 1 - Before function execution\n",
            "Decorator 2 - Before function execution\n",
            "Function execution\n",
            "Decorator 2 - After function execution\n",
            "Decorator 1 - After function execution\n"
          ]
        }
      ]
    },
    {
      "cell_type": "code",
      "source": [
        "#  Q55 Modify the decorator to accept and pass function arguments to the wrapped function\n",
        "\n",
        "def decorator1(func):\n",
        "    def wrapper(*args, **kwargs):\n",
        "        print(\"Decorator 1 - Before function execution\")\n",
        "        result = func(*args, **kwargs)\n",
        "        print(\"Decorator 1 - After function execution\")\n",
        "        return result\n",
        "    return wrapper\n",
        "\n",
        "def decorator2(func):\n",
        "    def wrapper(*args, **kwargs):\n",
        "        print(\"Decorator 2 - Before function execution\")\n",
        "        result = func(*args, **kwargs)\n",
        "        print(\"Decorator 2 - After function execution\")\n",
        "        return result\n",
        "    return wrapper\n",
        "\n",
        "@decorator1\n",
        "@decorator2\n",
        "def my_function(arg1, arg2):\n",
        "    print(f\"Function execution with arguments: {arg1}, {arg2}\")\n",
        "\n",
        "my_function(\"hello\", \"world\")\n"
      ],
      "metadata": {
        "colab": {
          "base_uri": "https://localhost:8080/"
        },
        "id": "NqYgEdE-5Hsv",
        "outputId": "bec0710e-d6cd-4ac4-8794-9d24c4a309c1"
      },
      "execution_count": null,
      "outputs": [
        {
          "output_type": "stream",
          "name": "stdout",
          "text": [
            "Decorator 1 - Before function execution\n",
            "Decorator 2 - Before function execution\n",
            "Function execution with arguments: hello, world\n",
            "Decorator 2 - After function execution\n",
            "Decorator 1 - After function execution\n"
          ]
        }
      ]
    },
    {
      "cell_type": "code",
      "source": [
        "# Q56 Create a decorator that preserves the metadata of the original function\n",
        "\n",
        "def my_decorator(func):\n",
        "    def wrapper(*args, **kwargs):\n",
        "        print(\"Decorator - Before function execution\")\n",
        "        result = func(*args, **kwargs)\n",
        "        print(\"Decorator - After function execution\")\n",
        "        return result\n",
        "\n",
        "    wrapper.__name__ = func.__name__\n",
        "    wrapper.__doc__ = func.__doc__\n",
        "    return wrapper\n",
        "\n",
        "@my_decorator\n",
        "def my_function():\n",
        "    \"\"\"This is my function\"\"\"\n",
        "    print(\"Function execution\")\n",
        "\n",
        "print(\"Function name:\", my_function.__name__)\n",
        "print(\"Function docstring:\", my_function.__doc__)\n"
      ],
      "metadata": {
        "colab": {
          "base_uri": "https://localhost:8080/"
        },
        "id": "H2YSzAVo6Uxb",
        "outputId": "fab50379-f20e-4383-c24b-fbd1f6c49e0a"
      },
      "execution_count": null,
      "outputs": [
        {
          "output_type": "stream",
          "name": "stdout",
          "text": [
            "Function name: my_function\n",
            "Function docstring: This is my function\n"
          ]
        }
      ]
    },
    {
      "cell_type": "code",
      "source": [
        "# Q57 Create a Python class `Calculator` with a static method `add` that takes in two numbers and returns their sum\n",
        "\n",
        "class Calculator:\n",
        "  @staticmethod\n",
        "  def add(x,y):\n",
        "    return x+y\n",
        "\n",
        "print(Calculator.add(2,5))"
      ],
      "metadata": {
        "colab": {
          "base_uri": "https://localhost:8080/"
        },
        "id": "tTWZ1o-eFZCB",
        "outputId": "5b496aa4-56df-4969-d550-fb9c1dee12f8"
      },
      "execution_count": null,
      "outputs": [
        {
          "output_type": "stream",
          "name": "stdout",
          "text": [
            "7\n"
          ]
        }
      ]
    },
    {
      "cell_type": "code",
      "source": [
        "#Q58 Create a Python class `Employee` with a class `method get_employee_count` that returns the total number of employees created\n",
        "\n",
        "class Employee:\n",
        "  c=0\n",
        "  def __init__(self,emp):\n",
        "    self.emp=emp\n",
        "    Employee.c+=1\n",
        "  @classmethod\n",
        "  def get_employee_count(cls):\n",
        "    return cls.c\n",
        "emp1=Employee(\"Abhishek\")\n",
        "emp2=Employee(\"Ashnik\")\n",
        "print(Employee.get_employee_count())"
      ],
      "metadata": {
        "colab": {
          "base_uri": "https://localhost:8080/"
        },
        "id": "nE78lc0IGJ3f",
        "outputId": "9035f1ad-c02f-4f3b-974d-2b101674cbd7"
      },
      "execution_count": null,
      "outputs": [
        {
          "output_type": "stream",
          "name": "stdout",
          "text": [
            "2\n"
          ]
        }
      ]
    },
    {
      "cell_type": "code",
      "source": [
        "#Q59 create a python class 'StringFormatter' with a static method 'reverse_string' that takes a string as input and reverse its reverse\n",
        "\n",
        "class StringFormatter:\n",
        "  @staticmethod\n",
        "  def reverse_string(string):\n",
        "    return string[::-1]\n",
        "print(StringFormatter.reverse_string(\"Abhishek\"))\n"
      ],
      "metadata": {
        "colab": {
          "base_uri": "https://localhost:8080/"
        },
        "id": "76iE_1bWG105",
        "outputId": "eb73b3af-9f72-4f82-d362-57ee4f30b260"
      },
      "execution_count": null,
      "outputs": [
        {
          "output_type": "stream",
          "name": "stdout",
          "text": [
            "kehsihbA\n"
          ]
        }
      ]
    },
    {
      "cell_type": "code",
      "source": [
        "# Q60 create a python class 'Circle' with class method 'calculate_area' that calculatess area of a circle given its radius\n",
        "\n",
        "class Circle:\n",
        "  @staticmethod\n",
        "  def calculate_area(radius):\n",
        "    return 3.14*radius*radius\n",
        "x=float(input(\"Please enter the radius : \"))\n",
        "print(Circle.calculate_area(x))"
      ],
      "metadata": {
        "colab": {
          "base_uri": "https://localhost:8080/"
        },
        "id": "ALRYzsP4LUe1",
        "outputId": "c5487268-fda3-4608-d729-c785a0941941"
      },
      "execution_count": null,
      "outputs": [
        {
          "output_type": "stream",
          "name": "stdout",
          "text": [
            "Please enter the radius : 3.56\n",
            "39.795104\n"
          ]
        }
      ]
    },
    {
      "cell_type": "code",
      "source": [
        "#61 create a python class 'TemperatureConverter ' with a static method 'celcius_to_fahenheit' that converts celsius of farhrenheit\n",
        "\n",
        "class TemperatureConverter :\n",
        "  @staticmethod\n",
        "  def celcius_to_fahenheit(celsius):\n",
        "    return ((9/5)*celsius)+32\n",
        "\n",
        "celsius = float(input(\"Please enter the temp in celcius :\"))\n",
        "print(f\"temerature in farenheit = {TemperatureConverter.celcius_to_fahenheit(celsius)}'f\")\n"
      ],
      "metadata": {
        "colab": {
          "base_uri": "https://localhost:8080/"
        },
        "id": "h_ikbS_oM9l3",
        "outputId": "3a02860d-bd28-4d8b-df61-b38574766e12"
      },
      "execution_count": null,
      "outputs": [
        {
          "output_type": "stream",
          "name": "stdout",
          "text": [
            "Please enter the temp in celcius :32.4\n",
            "temerature in farenheit = 90.32'f\n"
          ]
        }
      ]
    },
    {
      "cell_type": "markdown",
      "source": [
        "**Q 62 what is the purpose of the __str__() method in python classes provide an example**\n",
        "\n",
        "\n",
        "The __str__() method in Python is used to define the string representation of an object. When you use the str() function or print() function on an object, Python internally calls the object's __str__() method to get the string representation of that object.\n",
        "\n",
        "\n",
        "class Point:\n",
        "\n",
        "    def __init__(self, x, y):\n",
        "        self.x = x\n",
        "        self.y = y\n",
        "\n",
        "    def __str__(self):\n",
        "        return f\"({self.x}, {self.y})\"\n",
        "\n",
        "point = Point(3, 4)\n",
        "\n",
        "print(point)  \n",
        "print(str(point))  \n"
      ],
      "metadata": {
        "id": "o8I9nfTpRngC"
      }
    },
    {
      "cell_type": "markdown",
      "source": [
        "**Q63 How does  __len__() method works in python provide an example**\n",
        "\n",
        "The __len__() method in Python is used to define the length of an object. When you call the built-in len() function on an object, Python internally calls the object's __len__() method to get its length.\n",
        "\n",
        "\n",
        "\n",
        "class MyList:\n",
        "\n",
        "    def __init__(self, data):\n",
        "        self.data = data\n",
        "\n",
        "    def __len__(self):\n",
        "        return len(self.data)\n",
        "\n",
        "my_list = MyList([1, 2, 3, 4, 5])\n",
        "\n",
        "print(len(my_list))  # Output: 5\n"
      ],
      "metadata": {
        "id": "aILcKKcWT17i"
      }
    },
    {
      "cell_type": "markdown",
      "source": [
        "**Q64 explain the use of __add__() method in python classes , Provide an example**\n",
        "\n",
        "The __add__() method in Python is used to define the behavior of the + operator when applied to objects of a class. By implementing the __add__() method, you can specify how two objects of your class should be added together.\n",
        "\n",
        "\n",
        "\n",
        "class Point:\n",
        "\n",
        "    def __init__(self, x, y):\n",
        "        self.x = x\n",
        "        self.y = y\n",
        "\n",
        "    def __add__(self, other):\n",
        "        new_x = self.x + other.x\n",
        "        new_y = self.y + other.y\n",
        "        return Point(new_x, new_y)\n",
        "\n",
        "    def __str__(self):\n",
        "        return f\"({self.x}, {self.y})\"\n",
        "\n",
        "point1 = Point(1, 2)\n",
        "\n",
        "point2 = Point(3, 4)\n",
        "\n",
        "point3 = point1 + point2\n",
        "\n",
        "print(point3)  # OP: (4, 6)\n",
        "\n",
        "\n"
      ],
      "metadata": {
        "id": "h4viqttBUtmR"
      }
    },
    {
      "cell_type": "markdown",
      "source": [
        "**65 Whats the purpose of __getitem__() method in python provide example**\n",
        "\n",
        "The __getitem__() method in Python is used to define the behavior of accessing items from an object using square brackets []. It allows instances of a class to use the same syntax as built-in Python sequences like lists, tuples, and dictionaries.\n",
        "\n",
        "\n",
        "class MyList:\n",
        "\n",
        "    def __init__(self, data):\n",
        "        self.data = data\n",
        "\n",
        "    def __getitem__(self, index):\n",
        "        return self.data[index]\n",
        "\n",
        "    def __len__(self):\n",
        "        return len(self.data)\n",
        "\n",
        "my_list = MyList([1, 2, 3, 4, 5])\n",
        "\n",
        "print(my_list[2])  # Output: 3\n"
      ],
      "metadata": {
        "id": "n6ykhwBRY7bz"
      }
    },
    {
      "cell_type": "markdown",
      "source": [
        "**Q66 ExPlain the usage of the __iter__() and __next__() methods in Python. Provide an example using iterators**\n",
        "\n",
        "\n",
        "Sure!\n",
        "\n",
        "`__iter__()` makes an object iterable by returning an object that has a `__next__()` method.\n",
        "\n",
        "`__next__()` returns the next item in the iteration. If there are no more items, it raises `StopIteration`.\n",
        "\n",
        "For example, if you have a list `my_list`, `iter(my_list)` returns an iterator object. You can then use `next(iterator)` to get the next item in the list until there are no more items.\n",
        "\n",
        "\n",
        "class MyIterator:\n",
        "\n",
        "    def __init__(self, limit):\n",
        "        self.limit = limit\n",
        "        self.counter = 0\n",
        "\n",
        "    def __iter__(self):\n",
        "        return self\n",
        "\n",
        "    def __next__(self):\n",
        "        if self.counter < self.limit:\n",
        "            self.counter += 1\n",
        "            return self.counter\n",
        "        else:\n",
        "            raise StopIteration\n",
        "\n",
        "\n",
        "my_iterator = MyIterator(5)\n",
        "\n",
        "iter_obj = iter(my_iterator)\n",
        "\n",
        "try:\n",
        "\n",
        "    while True:\n",
        "        print(next(iter_obj))\n",
        "except StopIteration:\n",
        "\n",
        "    pass\n"
      ],
      "metadata": {
        "id": "SDFv28f3exwq"
      }
    },
    {
      "cell_type": "markdown",
      "source": [
        "**Q 67 What is the purpose of a getter method in Python? Provide an example demonstrating the use of a getter\n",
        "method using property decorators**\n",
        "\n",
        "*In Python, a getter method is used to access the value of an attribute of an object. It is a method that provides read-only access to the attribute, allowing you to retrieve the value without directly accessing the attribute itself.*\n",
        "\n",
        "\n",
        "\n",
        "class Circle:\n",
        "\n",
        "    def __init__(self, radius):\n",
        "        self._radius = radius\n",
        "\n",
        "    @property\n",
        "    def getradius(self):\n",
        "        return self._radius\n",
        "\n",
        "circle = Circle(5)\n",
        "\n",
        "print(circle.getradius)  # Output: 5\n",
        "\n",
        "\n"
      ],
      "metadata": {
        "id": "sf2_DI9XlXwN"
      }
    },
    {
      "cell_type": "markdown",
      "source": [
        "**Q68 Explain the role of setter method in python ? provide an example demonstrating the use of getter method using property decorator**\n",
        "\n",
        "In Python, setter methods are used to set the value of an attribute. They are typically implemented using the @property.setter\n",
        "\n",
        "class Circle:\n",
        "\n",
        "    def __init__(self, radius):\n",
        "        self._radius = radius\n",
        "\n",
        "    @property\n",
        "    def radius(self):\n",
        "        return self._radius\n",
        "\n",
        "    @radius.setter\n",
        "    def radius(self, value):\n",
        "        if value <= 0:\n",
        "            raise ValueError(\"Radius must be a positive number\")\n",
        "        self._radius = value\n",
        "\n",
        "\n",
        "circle = Circle(5)\n",
        "\n",
        "\n",
        "print(circle.radius)  \n",
        "\n",
        "\n",
        "circle.radius = 10\n",
        "print(circle.radius)  \n",
        "\n",
        "\n",
        "try:\n",
        "    circle.radius = -5\n",
        "\n",
        "except ValueError as e:\n",
        "\n",
        "    print(e)\n",
        "\n",
        "\n",
        "\n"
      ],
      "metadata": {
        "id": "4_QaK6Anpgjh"
      }
    },
    {
      "cell_type": "markdown",
      "source": [
        "**Q69 what is the purpose of @property decorator in python ? provide an example illustrating its usage**\n",
        "\n",
        "@property decorator allows methods to be aeccessed as attribute\n",
        "\n",
        "Example :\n",
        "\n",
        "class Circle:\n",
        "\n",
        "def __init__(self, radius):\n",
        "\n",
        "    self._radius = radius\n",
        "\n",
        "@property\n",
        "\n",
        "def getradius(self):\n",
        "\n",
        "    return self._radius\n",
        "\n",
        "circle = Circle(5)\n",
        "\n",
        "print(circle.getradius) # Output: 5"
      ],
      "metadata": {
        "id": "hm6kuM3Nq1Ph"
      }
    },
    {
      "cell_type": "markdown",
      "source": [
        "**Q70 `Explain the use of @delete decorator in python property decorators. Provide a code example demonstrating its application`**\n",
        "\n",
        "\n",
        "\n",
        "In Python, the @property.deleter decorator is used to define a method that will be called when a property is deleted using the del statement. This decorator allows you to perform any necessary cleanup or other actions when a property is deleted\n",
        "\n",
        "\n",
        "class Circle:\n",
        "\n",
        "    def __init__(self, radius):\n",
        "        self._radius = radius\n",
        "\n",
        "    @property\n",
        "    def radius(self):\n",
        "        return self._radius\n",
        "\n",
        "    @radius.setter\n",
        "    def radius(self, value):\n",
        "        if value <= 0:\n",
        "            raise ValueError(\"Radius must be a positive number\")\n",
        "        self._radius = value\n",
        "\n",
        "    @radius.deleter\n",
        "    def radius(self):\n",
        "        print(\"Deleting radius...\")\n",
        "        del self._radius\n",
        "\n",
        "\n",
        "circle = Circle(5)\n",
        "\n",
        "print(circle.radius)  # Output: 5\n",
        "\n",
        "\n",
        "del circle.radius  # Output: Deleting radius...\n",
        "\n",
        "AttributeError\n",
        "try:\n",
        "    print(circle.radius)\n",
        "\n",
        "except AttributeError as e:\n",
        "\n",
        "    print(e)  # Output: 'Circle' object has no attribute '_radius'\n"
      ],
      "metadata": {
        "id": "wzdaCgOItOqv"
      }
    },
    {
      "cell_type": "markdown",
      "source": [
        "**`Q71 How does Encaptulation role in property decorator in python ? Provide a example showcasing encaptulation using property decorator `**\n",
        "\n",
        "\n",
        "Encapsulation in Python refers to the concept of restricting access to certain parts of an object, typically to prevent accidental modification and to enforce controlled access through methods.\n",
        "\n",
        "\n",
        "class Circle:\n",
        "\n",
        "    def __init__(self, radius):\n",
        "        self.__radius = radius\n",
        "    @property\n",
        "    def radius(self):\n",
        "        return self.__radius\n",
        "\n",
        "\n",
        "    @radius.setter\n",
        "    def radius(self, value):\n",
        "        if value <= 0:\n",
        "            raise ValueError(\"Radius must be a positive number\")\n",
        "        self.__radius = value\n",
        "\n",
        "\n",
        "circle = Circle(5)\n",
        "\n",
        "\n",
        "print(circle.radius)  # Output: 5\n",
        "\n",
        "\n",
        "try:\n",
        "    circle.radius = -5\n",
        "except ValueError as e:\n",
        "    print(e)  \n",
        "\n",
        "\n",
        "try:\n",
        "\n",
        "    print(circle._radius)\n",
        "except AttributeError as e:\n",
        "\n",
        "    print(e)  \n"
      ],
      "metadata": {
        "id": "OVJUcjlgxSy6"
      }
    }
  ]
}